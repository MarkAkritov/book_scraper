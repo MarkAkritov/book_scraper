{
 "cells": [
  {
   "cell_type": "code",
   "execution_count": 1,
   "metadata": {},
   "outputs": [],
   "source": [
    "import pandas as pd\n",
    "import numpy as np\n",
    "import matplotlib.pyplot as plt"
   ]
  },
  {
   "cell_type": "code",
   "execution_count": 62,
   "metadata": {},
   "outputs": [],
   "source": [
    "book = pd.read_csv('book_data.csv')"
   ]
  },
  {
   "cell_type": "markdown",
   "metadata": {},
   "source": [
    "## Inflation"
   ]
  },
  {
   "cell_type": "code",
   "execution_count": 63,
   "metadata": {},
   "outputs": [
    {
     "data": {
      "text/html": [
       "<div>\n",
       "<style scoped>\n",
       "    .dataframe tbody tr th:only-of-type {\n",
       "        vertical-align: middle;\n",
       "    }\n",
       "\n",
       "    .dataframe tbody tr th {\n",
       "        vertical-align: top;\n",
       "    }\n",
       "\n",
       "    .dataframe thead th {\n",
       "        text-align: right;\n",
       "    }\n",
       "</style>\n",
       "<table border=\"1\" class=\"dataframe\">\n",
       "  <thead>\n",
       "    <tr style=\"text-align: right;\">\n",
       "      <th></th>\n",
       "      <th>Unnamed: 0</th>\n",
       "      <th>titles</th>\n",
       "      <th>authors</th>\n",
       "      <th>stars</th>\n",
       "      <th>reviews</th>\n",
       "      <th>cover</th>\n",
       "      <th>prices</th>\n",
       "      <th>publishers</th>\n",
       "      <th>genres</th>\n",
       "      <th>year</th>\n",
       "    </tr>\n",
       "  </thead>\n",
       "  <tbody>\n",
       "    <tr>\n",
       "      <th>0</th>\n",
       "      <td>0</td>\n",
       "      <td>How to Set Up and Maintain a World Wide Web Si...</td>\n",
       "      <td>Lincoln D. Stein</td>\n",
       "      <td>1.0</td>\n",
       "      <td>1.0</td>\n",
       "      <td>Paperback</td>\n",
       "      <td>44.59</td>\n",
       "      <td>Addison-Wesley Professional (August 9, 1995)</td>\n",
       "      <td>Textbooks</td>\n",
       "      <td>1995</td>\n",
       "    </tr>\n",
       "    <tr>\n",
       "      <th>1</th>\n",
       "      <td>1</td>\n",
       "      <td>A Mathematician Reads The Newspaper</td>\n",
       "      <td>John Allen Paulos</td>\n",
       "      <td>4.1</td>\n",
       "      <td>45.0</td>\n",
       "      <td>Hardcover</td>\n",
       "      <td>19.58</td>\n",
       "      <td>Basic Books; New edition edition (April 6, 1995)</td>\n",
       "      <td>Literature &amp; Fiction</td>\n",
       "      <td>1995</td>\n",
       "    </tr>\n",
       "    <tr>\n",
       "      <th>2</th>\n",
       "      <td>2</td>\n",
       "      <td>Brightness Reef  (Bantam Spectra Book)</td>\n",
       "      <td>David Brin</td>\n",
       "      <td>3.9</td>\n",
       "      <td>100.0</td>\n",
       "      <td>Hardcover</td>\n",
       "      <td>14.99</td>\n",
       "      <td>Spectra; First Edition edition (September 1, 1...</td>\n",
       "      <td>Science Fiction &amp; Fantasy</td>\n",
       "      <td>1995</td>\n",
       "    </tr>\n",
       "    <tr>\n",
       "      <th>3</th>\n",
       "      <td>3</td>\n",
       "      <td>Silicon Snake Oil: Second Thoughts on the Info...</td>\n",
       "      <td>Clifford Stoll</td>\n",
       "      <td>3.1</td>\n",
       "      <td>60.0</td>\n",
       "      <td>Hardcover</td>\n",
       "      <td>12.50</td>\n",
       "      <td>Doubleday; 1st edition (March 1, 1995)</td>\n",
       "      <td>Science &amp; Math</td>\n",
       "      <td>1995</td>\n",
       "    </tr>\n",
       "    <tr>\n",
       "      <th>4</th>\n",
       "      <td>4</td>\n",
       "      <td>The Dark and Deadly Pool (Laurel-Leaf Suspense...</td>\n",
       "      <td>Joan Lowery Nixon</td>\n",
       "      <td>3.8</td>\n",
       "      <td>33.0</td>\n",
       "      <td>Mass Market Paperback</td>\n",
       "      <td>0.10</td>\n",
       "      <td>Laurel Leaf; Reprint edition (May 1, 1989)</td>\n",
       "      <td>Teens</td>\n",
       "      <td>1995</td>\n",
       "    </tr>\n",
       "  </tbody>\n",
       "</table>\n",
       "</div>"
      ],
      "text/plain": [
       "   Unnamed: 0                                             titles  \\\n",
       "0           0  How to Set Up and Maintain a World Wide Web Si...   \n",
       "1           1                A Mathematician Reads The Newspaper   \n",
       "2           2             Brightness Reef  (Bantam Spectra Book)   \n",
       "3           3  Silicon Snake Oil: Second Thoughts on the Info...   \n",
       "4           4  The Dark and Deadly Pool (Laurel-Leaf Suspense...   \n",
       "\n",
       "             authors  stars  reviews                  cover  prices  \\\n",
       "0   Lincoln D. Stein    1.0      1.0              Paperback   44.59   \n",
       "1  John Allen Paulos    4.1     45.0              Hardcover   19.58   \n",
       "2         David Brin    3.9    100.0              Hardcover   14.99   \n",
       "3     Clifford Stoll    3.1     60.0              Hardcover   12.50   \n",
       "4  Joan Lowery Nixon    3.8     33.0  Mass Market Paperback    0.10   \n",
       "\n",
       "                                          publishers  \\\n",
       "0       Addison-Wesley Professional (August 9, 1995)   \n",
       "1   Basic Books; New edition edition (April 6, 1995)   \n",
       "2  Spectra; First Edition edition (September 1, 1...   \n",
       "3             Doubleday; 1st edition (March 1, 1995)   \n",
       "4         Laurel Leaf; Reprint edition (May 1, 1989)   \n",
       "\n",
       "                        genres  year  \n",
       "0                   Textbooks   1995  \n",
       "1        Literature & Fiction   1995  \n",
       "2   Science Fiction & Fantasy   1995  \n",
       "3              Science & Math   1995  \n",
       "4                       Teens   1995  "
      ]
     },
     "execution_count": 63,
     "metadata": {},
     "output_type": "execute_result"
    }
   ],
   "source": [
    "book.head()"
   ]
  },
  {
   "cell_type": "code",
   "execution_count": 64,
   "metadata": {},
   "outputs": [],
   "source": [
    "inflation = 2.95 #avg inflation rate for usa"
   ]
  },
  {
   "cell_type": "code",
   "execution_count": 65,
   "metadata": {},
   "outputs": [],
   "source": [
    "rates = {y:(2018 - y)*inflation for y in range(1995,2018)}"
   ]
  },
  {
   "cell_type": "code",
   "execution_count": 66,
   "metadata": {},
   "outputs": [],
   "source": [
    "for y in range(1995,2018):\n",
    "    cond = book.year == y\n",
    "    book.iloc[(book[cond].index[0:-1]),6] = book[cond].prices + book[cond].prices * rates[y] / 100"
   ]
  },
  {
   "cell_type": "code",
   "execution_count": 67,
   "metadata": {},
   "outputs": [
    {
     "data": {
      "text/html": [
       "<div>\n",
       "<style scoped>\n",
       "    .dataframe tbody tr th:only-of-type {\n",
       "        vertical-align: middle;\n",
       "    }\n",
       "\n",
       "    .dataframe tbody tr th {\n",
       "        vertical-align: top;\n",
       "    }\n",
       "\n",
       "    .dataframe thead th {\n",
       "        text-align: right;\n",
       "    }\n",
       "</style>\n",
       "<table border=\"1\" class=\"dataframe\">\n",
       "  <thead>\n",
       "    <tr style=\"text-align: right;\">\n",
       "      <th></th>\n",
       "      <th>Unnamed: 0</th>\n",
       "      <th>titles</th>\n",
       "      <th>authors</th>\n",
       "      <th>stars</th>\n",
       "      <th>reviews</th>\n",
       "      <th>cover</th>\n",
       "      <th>prices</th>\n",
       "      <th>publishers</th>\n",
       "      <th>genres</th>\n",
       "      <th>year</th>\n",
       "    </tr>\n",
       "  </thead>\n",
       "  <tbody>\n",
       "    <tr>\n",
       "      <th>0</th>\n",
       "      <td>0</td>\n",
       "      <td>How to Set Up and Maintain a World Wide Web Si...</td>\n",
       "      <td>Lincoln D. Stein</td>\n",
       "      <td>1.0</td>\n",
       "      <td>1.0</td>\n",
       "      <td>Paperback</td>\n",
       "      <td>74.844315</td>\n",
       "      <td>Addison-Wesley Professional (August 9, 1995)</td>\n",
       "      <td>Textbooks</td>\n",
       "      <td>1995</td>\n",
       "    </tr>\n",
       "    <tr>\n",
       "      <th>1</th>\n",
       "      <td>1</td>\n",
       "      <td>A Mathematician Reads The Newspaper</td>\n",
       "      <td>John Allen Paulos</td>\n",
       "      <td>4.1</td>\n",
       "      <td>45.0</td>\n",
       "      <td>Hardcover</td>\n",
       "      <td>32.865030</td>\n",
       "      <td>Basic Books; New edition edition (April 6, 1995)</td>\n",
       "      <td>Literature &amp; Fiction</td>\n",
       "      <td>1995</td>\n",
       "    </tr>\n",
       "    <tr>\n",
       "      <th>2</th>\n",
       "      <td>2</td>\n",
       "      <td>Brightness Reef  (Bantam Spectra Book)</td>\n",
       "      <td>David Brin</td>\n",
       "      <td>3.9</td>\n",
       "      <td>100.0</td>\n",
       "      <td>Hardcover</td>\n",
       "      <td>25.160715</td>\n",
       "      <td>Spectra; First Edition edition (September 1, 1...</td>\n",
       "      <td>Science Fiction &amp; Fantasy</td>\n",
       "      <td>1995</td>\n",
       "    </tr>\n",
       "    <tr>\n",
       "      <th>3</th>\n",
       "      <td>3</td>\n",
       "      <td>Silicon Snake Oil: Second Thoughts on the Info...</td>\n",
       "      <td>Clifford Stoll</td>\n",
       "      <td>3.1</td>\n",
       "      <td>60.0</td>\n",
       "      <td>Hardcover</td>\n",
       "      <td>20.981250</td>\n",
       "      <td>Doubleday; 1st edition (March 1, 1995)</td>\n",
       "      <td>Science &amp; Math</td>\n",
       "      <td>1995</td>\n",
       "    </tr>\n",
       "    <tr>\n",
       "      <th>4</th>\n",
       "      <td>4</td>\n",
       "      <td>The Dark and Deadly Pool (Laurel-Leaf Suspense...</td>\n",
       "      <td>Joan Lowery Nixon</td>\n",
       "      <td>3.8</td>\n",
       "      <td>33.0</td>\n",
       "      <td>Mass Market Paperback</td>\n",
       "      <td>0.167850</td>\n",
       "      <td>Laurel Leaf; Reprint edition (May 1, 1989)</td>\n",
       "      <td>Teens</td>\n",
       "      <td>1995</td>\n",
       "    </tr>\n",
       "  </tbody>\n",
       "</table>\n",
       "</div>"
      ],
      "text/plain": [
       "   Unnamed: 0                                             titles  \\\n",
       "0           0  How to Set Up and Maintain a World Wide Web Si...   \n",
       "1           1                A Mathematician Reads The Newspaper   \n",
       "2           2             Brightness Reef  (Bantam Spectra Book)   \n",
       "3           3  Silicon Snake Oil: Second Thoughts on the Info...   \n",
       "4           4  The Dark and Deadly Pool (Laurel-Leaf Suspense...   \n",
       "\n",
       "             authors  stars  reviews                  cover     prices  \\\n",
       "0   Lincoln D. Stein    1.0      1.0              Paperback  74.844315   \n",
       "1  John Allen Paulos    4.1     45.0              Hardcover  32.865030   \n",
       "2         David Brin    3.9    100.0              Hardcover  25.160715   \n",
       "3     Clifford Stoll    3.1     60.0              Hardcover  20.981250   \n",
       "4  Joan Lowery Nixon    3.8     33.0  Mass Market Paperback   0.167850   \n",
       "\n",
       "                                          publishers  \\\n",
       "0       Addison-Wesley Professional (August 9, 1995)   \n",
       "1   Basic Books; New edition edition (April 6, 1995)   \n",
       "2  Spectra; First Edition edition (September 1, 1...   \n",
       "3             Doubleday; 1st edition (March 1, 1995)   \n",
       "4         Laurel Leaf; Reprint edition (May 1, 1989)   \n",
       "\n",
       "                        genres  year  \n",
       "0                   Textbooks   1995  \n",
       "1        Literature & Fiction   1995  \n",
       "2   Science Fiction & Fantasy   1995  \n",
       "3              Science & Math   1995  \n",
       "4                       Teens   1995  "
      ]
     },
     "execution_count": 67,
     "metadata": {},
     "output_type": "execute_result"
    }
   ],
   "source": [
    "book.head()"
   ]
  },
  {
   "cell_type": "markdown",
   "metadata": {},
   "source": [
    "## Mean prices by year"
   ]
  },
  {
   "cell_type": "code",
   "execution_count": 86,
   "metadata": {},
   "outputs": [
    {
     "data": {
      "image/png": "[encoded data removed]",
      "text/plain": [
       "<Figure size 720x360 with 1 Axes>"
      ]
     },
     "metadata": {},
     "output_type": "display_data"
    },
    {
     "data": {
      "text/plain": [
       "<Figure size 432x288 with 0 Axes>"
      ]
     },
     "metadata": {},
     "output_type": "display_data"
    }
   ],
   "source": [
    "mean_price = [np.mean(book[book.year == y].prices) for y in range(1995,2019)]\n",
    "year = [y for y in range(1995,2019)]\n",
    "plt.figure(figsize=(10,5))\n",
    "plt.bar(year, mean_price)\n",
    "plt.title(\"Mean Prices by Year\", size=25)\n",
    "plt.xlabel(\"Year\", size=20)\n",
    "plt.xticks(year, rotation=60, size=15)\n",
    "plt.ylabel(\"Price in dollars\", size=20)\n",
    "plt.yticks(size=15)\n",
    "plt.show()\n",
    "plt.savefig('mean.jpeg')"
   ]
  },
  {
   "cell_type": "code",
   "execution_count": null,
   "metadata": {},
   "outputs": [],
   "source": []
  }
 ],
 "metadata": {
  "kernelspec": {
   "display_name": "Python 3",
   "language": "python",
   "name": "python3"
  },
  "language_info": {
   "codemirror_mode": {
    "name": "ipython",
    "version": 3
   },
   "file_extension": ".py",
   "mimetype": "text/x-python",
   "name": "python",
   "nbconvert_exporter": "python",
   "pygments_lexer": "ipython3",
   "version": "3.6.5"
  }
 },
 "nbformat": 4,
 "nbformat_minor": 2
}
