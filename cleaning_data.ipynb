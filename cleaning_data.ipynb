{
 "cells": [
  {
   "cell_type": "code",
   "execution_count": 39,
   "metadata": {},
   "outputs": [],
   "source": [
    "import pandas as pd\n",
    "import numpy as np"
   ]
  },
  {
   "cell_type": "code",
   "execution_count": 70,
   "metadata": {},
   "outputs": [],
   "source": [
    "dfs = []\n",
    "for y in range(1995, 2019):\n",
    "    file_1 = pd.read_csv('{0}_1.csv'.format(y))\n",
    "    file_2 = pd.read_csv('{0}_2.csv'.format(y))\n",
    "    files = [file_1, file_2]\n",
    "    df = pd.concat(files)\n",
    "    df['year'] = y \n",
    "    dfs.append(df)\n",
    "book_df = pd.concat(dfs)"
   ]
  },
  {
   "cell_type": "code",
   "execution_count": 71,
   "metadata": {},
   "outputs": [
    {
     "data": {
      "text/html": [
       "<div>\n",
       "<style scoped>\n",
       "    .dataframe tbody tr th:only-of-type {\n",
       "        vertical-align: middle;\n",
       "    }\n",
       "\n",
       "    .dataframe tbody tr th {\n",
       "        vertical-align: top;\n",
       "    }\n",
       "\n",
       "    .dataframe thead th {\n",
       "        text-align: right;\n",
       "    }\n",
       "</style>\n",
       "<table border=\"1\" class=\"dataframe\">\n",
       "  <thead>\n",
       "    <tr style=\"text-align: right;\">\n",
       "      <th></th>\n",
       "      <th>titles</th>\n",
       "      <th>authors</th>\n",
       "      <th>stars</th>\n",
       "      <th>reviews</th>\n",
       "      <th>cover</th>\n",
       "      <th>prices</th>\n",
       "      <th>publishers</th>\n",
       "      <th>genres</th>\n",
       "      <th>year</th>\n",
       "    </tr>\n",
       "  </thead>\n",
       "  <tbody>\n",
       "    <tr>\n",
       "      <th>45</th>\n",
       "      <td>Jesus Calling: Enjoying Peace in His Presence</td>\n",
       "      <td>Sarah Young</td>\n",
       "      <td>4.8</td>\n",
       "      <td>216</td>\n",
       "      <td>Hardcover</td>\n",
       "      <td>$9.55</td>\n",
       "      <td>Sourcebooks Jabberwocky; Brdbk edition (Decemb...</td>\n",
       "      <td>Children's Books</td>\n",
       "      <td>2018</td>\n",
       "    </tr>\n",
       "    <tr>\n",
       "      <th>46</th>\n",
       "      <td>Welcome Little One</td>\n",
       "      <td>Sandra Magsamen</td>\n",
       "      <td>4.2</td>\n",
       "      <td>1,562</td>\n",
       "      <td>Board book</td>\n",
       "      <td>$4.47</td>\n",
       "      <td>Feiwel &amp; Friends; Brdbk edition (June 9, 2015)</td>\n",
       "      <td>Children's Books</td>\n",
       "      <td>2018</td>\n",
       "    </tr>\n",
       "    <tr>\n",
       "      <th>47</th>\n",
       "      <td>Your Baby's First Word Will Be DADA</td>\n",
       "      <td>Jimmy Fallon</td>\n",
       "      <td>4.6</td>\n",
       "      <td>1,216</td>\n",
       "      <td>Board book</td>\n",
       "      <td>$5.59</td>\n",
       "      <td>Wizards of the Coast; 9 edition (September 30,...</td>\n",
       "      <td>Science Fiction &amp; Fantasy</td>\n",
       "      <td>2018</td>\n",
       "    </tr>\n",
       "    <tr>\n",
       "      <th>48</th>\n",
       "      <td>Monster Manual (D&amp;D Core Rulebook)</td>\n",
       "      <td>Wizards RPG Team</td>\n",
       "      <td>4.5</td>\n",
       "      <td>2,413</td>\n",
       "      <td>Hardcover</td>\n",
       "      <td>$28.82</td>\n",
       "      <td>Ballantine Books; Reprint, Updated edition (De...</td>\n",
       "      <td>Law</td>\n",
       "      <td>2018</td>\n",
       "    </tr>\n",
       "    <tr>\n",
       "      <th>49</th>\n",
       "      <td>Mindset: The New Psychology of Success</td>\n",
       "      <td>Carol S. Dweck</td>\n",
       "      <td>NaN</td>\n",
       "      <td>NaN</td>\n",
       "      <td>Paperback</td>\n",
       "      <td>$8.79</td>\n",
       "      <td>NaN</td>\n",
       "      <td>NaN</td>\n",
       "      <td>2018</td>\n",
       "    </tr>\n",
       "  </tbody>\n",
       "</table>\n",
       "</div>"
      ],
      "text/plain": [
       "                                           titles           authors  stars  \\\n",
       "45  Jesus Calling: Enjoying Peace in His Presence       Sarah Young    4.8   \n",
       "46                             Welcome Little One   Sandra Magsamen    4.2   \n",
       "47            Your Baby's First Word Will Be DADA      Jimmy Fallon    4.6   \n",
       "48             Monster Manual (D&D Core Rulebook)  Wizards RPG Team    4.5   \n",
       "49         Mindset: The New Psychology of Success    Carol S. Dweck    NaN   \n",
       "\n",
       "   reviews       cover  prices  \\\n",
       "45     216   Hardcover   $9.55   \n",
       "46   1,562  Board book   $4.47   \n",
       "47   1,216  Board book   $5.59   \n",
       "48   2,413   Hardcover  $28.82   \n",
       "49     NaN   Paperback   $8.79   \n",
       "\n",
       "                                           publishers  \\\n",
       "45  Sourcebooks Jabberwocky; Brdbk edition (Decemb...   \n",
       "46     Feiwel & Friends; Brdbk edition (June 9, 2015)   \n",
       "47  Wizards of the Coast; 9 edition (September 30,...   \n",
       "48  Ballantine Books; Reprint, Updated edition (De...   \n",
       "49                                                NaN   \n",
       "\n",
       "                         genres  year  \n",
       "45            Children's Books   2018  \n",
       "46            Children's Books   2018  \n",
       "47   Science Fiction & Fantasy   2018  \n",
       "48                         Law   2018  \n",
       "49                          NaN  2018  "
      ]
     },
     "execution_count": 71,
     "metadata": {},
     "output_type": "execute_result"
    }
   ],
   "source": [
    "book_df.tail()"
   ]
  },
  {
   "cell_type": "code",
   "execution_count": 72,
   "metadata": {},
   "outputs": [
    {
     "data": {
      "text/plain": [
       "(2390, 9)"
      ]
     },
     "execution_count": 72,
     "metadata": {},
     "output_type": "execute_result"
    }
   ],
   "source": [
    "book_df.shape"
   ]
  },
  {
   "cell_type": "code",
   "execution_count": 73,
   "metadata": {},
   "outputs": [],
   "source": [
    "book_df.reviews = book_df.reviews.str.replace(',', '').astype(np.float)\n",
    "book_df.prices = book_df.prices.str.replace('$', '').astype(np.float)"
   ]
  },
  {
   "cell_type": "code",
   "execution_count": 74,
   "metadata": {},
   "outputs": [
    {
     "data": {
      "text/html": [
       "<div>\n",
       "<style scoped>\n",
       "    .dataframe tbody tr th:only-of-type {\n",
       "        vertical-align: middle;\n",
       "    }\n",
       "\n",
       "    .dataframe tbody tr th {\n",
       "        vertical-align: top;\n",
       "    }\n",
       "\n",
       "    .dataframe thead th {\n",
       "        text-align: right;\n",
       "    }\n",
       "</style>\n",
       "<table border=\"1\" class=\"dataframe\">\n",
       "  <thead>\n",
       "    <tr style=\"text-align: right;\">\n",
       "      <th></th>\n",
       "      <th>stars</th>\n",
       "      <th>reviews</th>\n",
       "      <th>prices</th>\n",
       "      <th>year</th>\n",
       "    </tr>\n",
       "  </thead>\n",
       "  <tbody>\n",
       "    <tr>\n",
       "      <th>count</th>\n",
       "      <td>2385.000000</td>\n",
       "      <td>2385.000000</td>\n",
       "      <td>2389.000000</td>\n",
       "      <td>2390.000000</td>\n",
       "    </tr>\n",
       "    <tr>\n",
       "      <th>mean</th>\n",
       "      <td>4.376184</td>\n",
       "      <td>4316.534172</td>\n",
       "      <td>12.187468</td>\n",
       "      <td>2006.512552</td>\n",
       "    </tr>\n",
       "    <tr>\n",
       "      <th>std</th>\n",
       "      <td>0.374091</td>\n",
       "      <td>9601.232473</td>\n",
       "      <td>10.896479</td>\n",
       "      <td>6.918443</td>\n",
       "    </tr>\n",
       "    <tr>\n",
       "      <th>min</th>\n",
       "      <td>1.000000</td>\n",
       "      <td>1.000000</td>\n",
       "      <td>0.010000</td>\n",
       "      <td>1995.000000</td>\n",
       "    </tr>\n",
       "    <tr>\n",
       "      <th>25%</th>\n",
       "      <td>4.200000</td>\n",
       "      <td>461.000000</td>\n",
       "      <td>7.900000</td>\n",
       "      <td>2001.000000</td>\n",
       "    </tr>\n",
       "    <tr>\n",
       "      <th>50%</th>\n",
       "      <td>4.500000</td>\n",
       "      <td>1514.000000</td>\n",
       "      <td>10.750000</td>\n",
       "      <td>2007.000000</td>\n",
       "    </tr>\n",
       "    <tr>\n",
       "      <th>75%</th>\n",
       "      <td>4.600000</td>\n",
       "      <td>3948.000000</td>\n",
       "      <td>14.700000</td>\n",
       "      <td>2012.750000</td>\n",
       "    </tr>\n",
       "    <tr>\n",
       "      <th>max</th>\n",
       "      <td>5.000000</td>\n",
       "      <td>84641.000000</td>\n",
       "      <td>275.000000</td>\n",
       "      <td>2018.000000</td>\n",
       "    </tr>\n",
       "  </tbody>\n",
       "</table>\n",
       "</div>"
      ],
      "text/plain": [
       "             stars       reviews       prices         year\n",
       "count  2385.000000   2385.000000  2389.000000  2390.000000\n",
       "mean      4.376184   4316.534172    12.187468  2006.512552\n",
       "std       0.374091   9601.232473    10.896479     6.918443\n",
       "min       1.000000      1.000000     0.010000  1995.000000\n",
       "25%       4.200000    461.000000     7.900000  2001.000000\n",
       "50%       4.500000   1514.000000    10.750000  2007.000000\n",
       "75%       4.600000   3948.000000    14.700000  2012.750000\n",
       "max       5.000000  84641.000000   275.000000  2018.000000"
      ]
     },
     "execution_count": 74,
     "metadata": {},
     "output_type": "execute_result"
    }
   ],
   "source": [
    "book_df.describe()"
   ]
  },
  {
   "cell_type": "code",
   "execution_count": 75,
   "metadata": {},
   "outputs": [],
   "source": [
    "book_df.iloc[:,[2,3,5]] = book_df.iloc[:,[2,3,5]].fillna(book_df.iloc[:,[2,3,5]].mean)"
   ]
  },
  {
   "cell_type": "code",
   "execution_count": 76,
   "metadata": {},
   "outputs": [],
   "source": [
    "book_df.genres = book_df.genres.astype('category')"
   ]
  },
  {
   "cell_type": "code",
   "execution_count": 77,
   "metadata": {},
   "outputs": [],
   "source": [
    "book_df.stars = pd.to_numeric(book_df.stars, errors='coerce')\n",
    "book_df.prices = pd.to_numeric(book_df.prices, errors='coerce')\n",
    "book_df.reviews = pd.to_numeric(book_df.reviews, errors='coerce')"
   ]
  },
  {
   "cell_type": "code",
   "execution_count": 78,
   "metadata": {},
   "outputs": [
    {
     "name": "stdout",
     "output_type": "stream",
     "text": [
      "<class 'pandas.core.frame.DataFrame'>\n",
      "Int64Index: 2390 entries, 0 to 49\n",
      "Data columns (total 9 columns):\n",
      "titles        2390 non-null object\n",
      "authors       2384 non-null object\n",
      "stars         2390 non-null object\n",
      "reviews       2390 non-null object\n",
      "cover         2384 non-null object\n",
      "prices        2390 non-null object\n",
      "publishers    2366 non-null object\n",
      "genres        2359 non-null category\n",
      "year          2390 non-null int64\n",
      "dtypes: category(1), int64(1), object(7)\n",
      "memory usage: 172.0+ KB\n"
     ]
    }
   ],
   "source": [
    "book_df.info()"
   ]
  },
  {
   "cell_type": "code",
   "execution_count": 7,
   "metadata": {},
   "outputs": [],
   "source": [
    "book_df.to_csv('book_data.csv')"
   ]
  }
 ],
 "metadata": {
  "kernelspec": {
   "display_name": "Python 3",
   "language": "python",
   "name": "python3"
  },
  "language_info": {
   "codemirror_mode": {
    "name": "ipython",
    "version": 3
   },
   "file_extension": ".py",
   "mimetype": "text/x-python",
   "name": "python",
   "nbconvert_exporter": "python",
   "pygments_lexer": "ipython3",
   "version": "3.6.5"
  }
 },
 "nbformat": 4,
 "nbformat_minor": 2
}
